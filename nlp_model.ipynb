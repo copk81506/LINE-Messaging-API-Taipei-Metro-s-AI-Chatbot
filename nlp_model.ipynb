{
 "cells": [
  {
   "cell_type": "markdown",
   "id": "0e49fa7a",
   "metadata": {},
   "source": [
    "將標籤轉換為數字（Label Encoding）"
   ]
  },
  {
   "cell_type": "code",
   "execution_count": null,
   "id": "5a7c73ae",
   "metadata": {},
   "outputs": [],
   "source": [
    "import pandas as pd\n",
    "from datasets import Dataset\n",
    "\n",
    "# 假設 CSV 格式\n",
    "df = pd.read_excel('your-data-path')  # 用你的資料集路徑\n",
    "\n",
    "# 將標籤轉換為數字，可換成自己檔案內的分類\n",
    "label2id = {\n",
    "    \"時刻表\": 0,\n",
    "    \"票價\": 1,\n",
    "    \"乘車時間\": 2,\n",
    "    \"其他問題\": 3\n",
    "}\n",
    "\n",
    "df['label'] = df['label'].map(label2id)\n",
    "\n",
    "# 轉換為 HuggingFace dataset 格式\n",
    "dataset = Dataset.from_pandas(df)\n",
    "\n",
    "# 你也可以手動分訓練集和測試集\n",
    "dataset = dataset.train_test_split(test_size=0.2)\n",
    "\n",
    "dataset"
   ]
  },
  {
   "cell_type": "markdown",
   "id": "2cd8b2d6",
   "metadata": {},
   "source": [
    "BERT Tokenizer 預處理"
   ]
  },
  {
   "cell_type": "code",
   "execution_count": null,
   "id": "4b64730a",
   "metadata": {},
   "outputs": [],
   "source": [
    "from transformers import AutoTokenizer\n",
    "\n",
    "# 加載 RoBERTa tokenizer\n",
    "tokenizer = AutoTokenizer.from_pretrained(\"hfl/chinese-roberta-wwm-ext\")\n",
    "# 定義預處理函數\n",
    "def preprocess_function(examples):\n",
    "    return tokenizer(examples[\"text\"], truncation=True, padding=\"max_length\", max_length=128)\n",
    "\n",
    "\n",
    "# 對整個資料集進行 Tokenize\n",
    "encoded_dataset = dataset.map(preprocess_function, batched=True)\n",
    "\n",
    "# 顯示處理後的結果\n",
    "print(encoded_dataset)\n"
   ]
  },
  {
   "cell_type": "code",
   "execution_count": null,
   "id": "2aa3037c",
   "metadata": {},
   "outputs": [],
   "source": [
    "# 顯示處理後的結果\n",
    "print(encoded_dataset[\"train\"][0])"
   ]
  },
  {
   "cell_type": "markdown",
   "id": "621487ae",
   "metadata": {},
   "source": [
    "微調（Fine-tuning）"
   ]
  },
  {
   "cell_type": "code",
   "execution_count": null,
   "id": "fbec6295",
   "metadata": {},
   "outputs": [],
   "source": [
    "from transformers import RobertaForSequenceClassification, Trainer, TrainingArguments\n",
    "\n",
    "# 載入模型，num_labels為資料有幾種分類\n",
    "model = RobertaForSequenceClassification.from_pretrained(\"hfl/chinese-roberta-wwm-ext\", num_labels=4)\n",
    "\n",
    "# 定義訓練參數\n",
    "training_args = TrainingArguments(\n",
    "    output_dir=\"../results\",          # 儲存模型的路徑\n",
    "    eval_strategy=\"epoch\",           # 每訓練一個epoch後評估一次\n",
    "    learning_rate=2e-5,              # 學習率\n",
    "    per_device_train_batch_size=16,  # 訓練時每個設備的 batch size\n",
    "    per_device_eval_batch_size=16,   # 測試時每個設備的 batch size\n",
    "    num_train_epochs=3,              # 訓練的 epoch 次數\n",
    "    weight_decay=0.01,               # 權重衰減\n",
    "    save_steps=1000,                 # 每 1000 步儲存一次模型\n",
    ")\n",
    "\n",
    "trainer = Trainer(\n",
    "    model=model,\n",
    "    args=training_args,\n",
    "    train_dataset=encoded_dataset[\"train\"],\n",
    "    eval_dataset=encoded_dataset[\"test\"]\n",
    ")\n",
    "\n",
    "# 開始訓練\n",
    "trainer.train()\n"
   ]
  },
  {
   "cell_type": "code",
   "execution_count": null,
   "id": "6649cfd5",
   "metadata": {},
   "outputs": [],
   "source": [
    "# 儲存模型\n",
    "from transformers import AutoModelForSequenceClassification, AutoTokenizer\n",
    "\n",
    "model.save_pretrained(\"output_dir\")\n",
    "tokenizer.save_pretrained(\"output_dir\")\n"
   ]
  },
  {
   "cell_type": "markdown",
   "id": "3b403848",
   "metadata": {},
   "source": [
    "測試模型"
   ]
  },
  {
   "cell_type": "code",
   "execution_count": null,
   "id": "8d8a5c46",
   "metadata": {},
   "outputs": [],
   "source": [
    "from transformers import RobertaForSequenceClassification, Trainer, TrainingArguments\n",
    "from transformers import AutoTokenizer\n",
    "from transformers import pipeline\n",
    "\n",
    "# 載入訓練後的模型，output_dir可改成其他路徑\n",
    "model = RobertaForSequenceClassification.from_pretrained(\"output_dir\")\n",
    "tokenizer = AutoTokenizer.from_pretrained(\"output_dir\")\n",
    "# 初始化推理管道\n",
    "classifier = pipeline(\"text-classification\", model=model, tokenizer=tokenizer)\n",
    "\n",
    "# 測試\n",
    "result = classifier(\"your-question\")\n",
    "print(result)\n"
   ]
  },
  {
   "cell_type": "code",
   "execution_count": null,
   "id": "f9718312",
   "metadata": {},
   "outputs": [],
   "source": [
    "result[0][\"label\"]"
   ]
  },
  {
   "cell_type": "markdown",
   "id": "ea8af43e",
   "metadata": {},
   "source": [
    "重新訓練模型"
   ]
  },
  {
   "cell_type": "code",
   "execution_count": null,
   "id": "fb871644",
   "metadata": {},
   "outputs": [],
   "source": [
    "df = pd.read_excel(\"your-data-path\")\n",
    "\n",
    "# 將標籤轉換為數字\n",
    "label2id = {\n",
    "    \"時刻表\": 0,\n",
    "    \"票價\": 1,\n",
    "    \"乘車時間\": 2,\n",
    "    \"其他問題\": 3\n",
    "}\n",
    "\n",
    "df['label'] = df['label'].map(label2id)\n",
    "\n",
    "# 轉換為 HuggingFace dataset 格式\n",
    "dataset = Dataset.from_pandas(df)\n",
    "\n",
    "# 分成訓練集和測試集\n",
    "dataset = dataset.train_test_split(test_size=0.2)\n",
    "\n",
    "dataset"
   ]
  },
  {
   "cell_type": "markdown",
   "id": "317939b0",
   "metadata": {},
   "source": [
    "使用舊模型的 tokenizer 進行 tokenize"
   ]
  },
  {
   "cell_type": "code",
   "execution_count": null,
   "id": "1f4409a5",
   "metadata": {},
   "outputs": [],
   "source": [
    "from transformers import AutoTokenizer\n",
    "# output_dir為之前儲存tokenizer的路徑\n",
    "tokenizer = AutoTokenizer.from_pretrained(\"output_dir\")  # 用之前訓練好的模型目錄\n",
    "\n",
    "def preprocess_function(examples):\n",
    "    return tokenizer(examples[\"text\"], truncation=True, padding=\"max_length\", max_length=128)\n",
    "\n",
    "encoded_dataset = dataset.map(preprocess_function, batched=True)\n"
   ]
  },
  {
   "cell_type": "markdown",
   "id": "4c211dbc",
   "metadata": {},
   "source": [
    "載入已訓練好的模型"
   ]
  },
  {
   "cell_type": "code",
   "execution_count": null,
   "id": "c41f8a5c",
   "metadata": {},
   "outputs": [],
   "source": [
    "from transformers import RobertaForSequenceClassification\n",
    "# output_dir為之前儲存模型的路徑\n",
    "model = RobertaForSequenceClassification.from_pretrained(\"output_dir\")\n"
   ]
  },
  {
   "cell_type": "markdown",
   "id": "c834e702",
   "metadata": {},
   "source": [
    "設定訓練參數並用 Trainer 繼續訓練"
   ]
  },
  {
   "cell_type": "code",
   "execution_count": null,
   "id": "c1e46d80",
   "metadata": {},
   "outputs": [],
   "source": [
    "from transformers import TrainingArguments, Trainer\n",
    "\n",
    "training_args = TrainingArguments(\n",
    "    output_dir=\"./results_continue\",  # 新的輸出目錄\n",
    "    eval_strategy=\"epoch\",\n",
    "    learning_rate=2e-5,\n",
    "    per_device_train_batch_size=16,\n",
    "    per_device_eval_batch_size=16,\n",
    "    num_train_epochs=3,\n",
    "    weight_decay=0.01,\n",
    "    save_steps=500,\n",
    "    logging_dir=\"./logs_continue\",\n",
    "    logging_steps=100,\n",
    ")\n",
    "\n",
    "trainer = Trainer(\n",
    "    model=model,\n",
    "    args=training_args,\n",
    "    train_dataset=encoded_dataset[\"train\"],\n",
    "    eval_dataset=encoded_dataset[\"test\"],\n",
    ")\n",
    "\n",
    "# 開始再訓練\n",
    "trainer.train()\n"
   ]
  },
  {
   "cell_type": "code",
   "execution_count": null,
   "id": "1db564bd",
   "metadata": {},
   "outputs": [],
   "source": [
    "# 儲存模型\n",
    "from transformers import AutoModelForSequenceClassification, AutoTokenizer\n",
    "\n",
    "model.save_pretrained(\"output_dir\")\n",
    "tokenizer.save_pretrained(\"output_dir\")"
   ]
  }
 ],
 "metadata": {
  "kernelspec": {
   "display_name": "Python 3",
   "language": "python",
   "name": "python3"
  },
  "language_info": {
   "codemirror_mode": {
    "name": "ipython",
    "version": 3
   },
   "file_extension": ".py",
   "mimetype": "text/x-python",
   "name": "python",
   "nbconvert_exporter": "python",
   "pygments_lexer": "ipython3",
   "version": "3.9.0"
  }
 },
 "nbformat": 4,
 "nbformat_minor": 5
}
