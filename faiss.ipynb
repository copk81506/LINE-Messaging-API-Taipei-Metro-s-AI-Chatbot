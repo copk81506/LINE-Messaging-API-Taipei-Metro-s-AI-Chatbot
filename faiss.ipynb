{
 "cells": [
  {
   "cell_type": "markdown",
   "id": "fe7535a2",
   "metadata": {},
   "source": [
    "bge-large-zh + FAISS + LangChain RAG 中文示範程式碼"
   ]
  },
  {
   "cell_type": "code",
   "execution_count": null,
   "id": "0d9c492e",
   "metadata": {},
   "outputs": [],
   "source": [
    "import pandas as pd\n",
    "from sentence_transformers import SentenceTransformer\n",
    "from langchain.vectorstores import FAISS\n",
    "from langchain.embeddings import HuggingFaceEmbeddings\n",
    "from langchain.chains import RetrievalQA\n",
    "from langchain.schema import Document"
   ]
  },
  {
   "cell_type": "code",
   "execution_count": null,
   "id": "97b5b264",
   "metadata": {},
   "outputs": [],
   "source": [
    "# 1. 讀取 CSV 檔，這邊將檔案整理成question、ans、class_q(分類)\n",
    "df = pd.read_excel(\"your-data-path\")\n",
    "texts = [f\"Q: {q}\\nA: {a}\" for q, a in zip(df[\"question\"], df[\"ans\"])]\n",
    "metadatas = [{\"category\": c} for c in df[\"class_q\"]]"
   ]
  },
  {
   "cell_type": "code",
   "execution_count": null,
   "id": "d32a9d82",
   "metadata": {},
   "outputs": [],
   "source": [
    "# 2 .載入 bge-large-zh 模型嵌入\n",
    "embedding_model = HuggingFaceEmbeddings(\n",
    "    model_name=\"BAAI/bge-large-zh-v1.5\",\n",
    "    # model_kwargs={\"device\": \"cuda:0\"},   # 若使用 GPU，則開啟\n",
    "    encode_kwargs={\"normalize_embeddings\": True}\n",
    ")"
   ]
  },
  {
   "cell_type": "code",
   "execution_count": null,
   "id": "3945630e",
   "metadata": {},
   "outputs": [],
   "source": [
    "# 第 3 步：建立向量資料庫（用 FAISS）\n",
    "vectorstore = FAISS.from_texts(texts, embedding=embedding_model, metadatas=metadatas)"
   ]
  },
  {
   "cell_type": "code",
   "execution_count": null,
   "id": "10b36112",
   "metadata": {},
   "outputs": [],
   "source": [
    "# 儲存 FAISS 資料庫\n",
    "vectorstore.save_local(\"faiss_finish_index\")"
   ]
  }
 ],
 "metadata": {
  "kernelspec": {
   "display_name": "Python 3",
   "language": "python",
   "name": "python3"
  },
  "language_info": {
   "codemirror_mode": {
    "name": "ipython",
    "version": 3
   },
   "file_extension": ".py",
   "mimetype": "text/x-python",
   "name": "python",
   "nbconvert_exporter": "python",
   "pygments_lexer": "ipython3",
   "version": "3.12.8"
  }
 },
 "nbformat": 4,
 "nbformat_minor": 5
}
